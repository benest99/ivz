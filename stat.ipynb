{
 "cells": [
  {
   "cell_type": "code",
   "execution_count": 1,
   "metadata": {},
   "outputs": [],
   "source": [
    "from scipy.stats import chi2_contingency\n",
    "from scipy.stats import ttest_ind\n",
    "import pandas as pd\n",
    "import matplotlib.pyplot as plt\n",
    "import numpy as np\n"
   ]
  },
  {
   "cell_type": "markdown",
   "metadata": {},
   "source": [
    "# Test hypotéz"
   ]
  },
  {
   "cell_type": "code",
   "execution_count": null,
   "metadata": {},
   "outputs": [],
   "source": [
    "# Získání záznamů ze souboru\n",
    "total_df = pd.read_pickle(\"accidents.pkl.gz\")"
   ]
  },
  {
   "cell_type": "markdown",
   "metadata": {},
   "source": [
    "## Hypotéza 1\n",
    "Na silnicích první třídy se při nehodách umíralo se stejnou pravděpodobností jako dálnicích.\n",
    "\n",
    "Pro tuto hypotézu je doporučený test X^2. Pro tento test si připravíme 1 dataset, který obsahuje rozdělení typů komunikací v závislosti na počtu fatálních a nefatálních nehod.\n",
    "fatální nehody jsou ty, při kterých umřela alespoň jedna osoba."
   ]
  },
  {
   "cell_type": "code",
   "execution_count": 4,
   "metadata": {},
   "outputs": [
    {
     "name": "stdout",
     "output_type": "stream",
     "text": [
      "dead  False  True\n",
      "type             \n",
      "0     24293   166\n",
      "1     78618   911\n"
     ]
    }
   ],
   "source": [
    "# Získání záznamů nehod pouze z dálnic a silnic první třídy\n",
    "df_h1 = total_df.loc[(total_df[\"p36\"] == 0)|(total_df[\"p36\"] == 1)]\n",
    "\n",
    "# Vytvoření dataframu pouze se sloupci s typem silnic a sloupcem obsahující \n",
    "# jestli byla nehoda fatalní, nebo nebyla.\n",
    "df_h1 = pd.DataFrame({\n",
    "    \"type\" : df_h1[\"p36\"],\n",
    "    \"dead\" : df_h1[\"p13a\"] >0\n",
    "}).dropna()\n",
    "\n",
    "# Vytvoření cross tabulky z dataframu \"df_h1\"\n",
    "df_h1 = pd.crosstab(df_h1[\"type\"], df_h1[\"dead\"])\n",
    "\n",
    "print(df_h1)"
   ]
  },
  {
   "cell_type": "code",
   "execution_count": 5,
   "metadata": {},
   "outputs": [
    {
     "name": "stdout",
     "output_type": "stream",
     "text": [
      "P hodnota je:  3.6067450279444316e-10\n",
      "Očekávaný počet fatálních nehod na silnicíh 1. třídy je: 823.6790110397353\n"
     ]
    }
   ],
   "source": [
    "# Aplikace testu x^2 na \"df_h1\" cross tabulku\n",
    "stat, p, dof, expected = chi2_contingency(df_h1)\n",
    "\n",
    "print(\"P hodnota je: \", p)\n",
    "print(\"Očekávaný počet fatálních nehod na silnicíh 1. třídy je:\", expected[1][1])"
   ]
  },
  {
   "cell_type": "markdown",
   "metadata": {},
   "source": [
    "Z p hodnoty je zřejmé, že je hypotéza zamítnuta. Data nekorelují. Na silnicích první třídy se neumíralo se stejnou pravděpodobností jako na dálnicích.\n",
    "\n",
    "Z testu je také zřejmé, že očekávaná hodnota fatálních nehod na dálnicích by měla být 823.67.... Ale reálný počet fatálních nehod na dálnicích je roven 911."
   ]
  },
  {
   "cell_type": "markdown",
   "metadata": {},
   "source": [
    "## Hypotéza 2\n",
    "Při nehodách vozidel značky Škoda je škoda na vozidle nižší než při nehodách vozidel Audi.\n",
    "\n",
    "Pro vyhodnocení hypotézy vyuýžijeme T-test, kterým můžeme porovnat 2 datasety poškození na vozidlech."
   ]
  },
  {
   "cell_type": "code",
   "execution_count": 7,
   "metadata": {},
   "outputs": [
    {
     "name": "stdout",
     "output_type": "stream",
     "text": [
      "Ttest_indResult(statistic=-39.12749433594028, pvalue=0.0)\n"
     ]
    }
   ],
   "source": [
    "# Získání záznamů nehod pouze vozidel Audi a Škodauložených v separovaných dataframech\n",
    "audi_df_h2 = total_df.loc[total_df[\"p45a\"] ==2, \"p53\"]\n",
    "skoda_df_h2 = total_df.loc[total_df[\"p45a\"] ==39, \"p53\"]\n",
    "\n",
    "# Aplikace t testu na porovnání 2 skupin záznamů nehod\n",
    "result = ttest_ind(audi_df_h2, skoda_df_h2)\n",
    "\n",
    "print(result)"
   ]
  },
  {
   "cell_type": "markdown",
   "metadata": {},
   "source": [
    "P hodnota je na dostatečné hladině významnosti, takže hypotézu nezamítáme. Výsledná statistika T testu je kladná. To potvrzuje hypotézu, že při nehodách značky Škoda je škoda na vozidle nižší než při nehodách vozidel Audi."
   ]
  }
 ],
 "metadata": {
  "interpreter": {
   "hash": "916dbcbb3f70747c44a77c7bcd40155683ae19c65e1c03b4aa3499c5328201f1"
  },
  "kernelspec": {
   "display_name": "Python 3.8.10 64-bit",
   "language": "python",
   "name": "python3"
  },
  "language_info": {
   "codemirror_mode": {
    "name": "ipython",
    "version": 3
   },
   "file_extension": ".py",
   "mimetype": "text/x-python",
   "name": "python",
   "nbconvert_exporter": "python",
   "pygments_lexer": "ipython3",
   "version": "3.8.10"
  },
  "orig_nbformat": 4
 },
 "nbformat": 4,
 "nbformat_minor": 2
}
